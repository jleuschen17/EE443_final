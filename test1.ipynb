{
 "cells": [
  {
   "cell_type": "code",
   "execution_count": 7,
   "id": "initial_id",
   "metadata": {
    "collapsed": true,
    "ExecuteTime": {
     "end_time": "2024-05-28T20:21:15.918260Z",
     "start_time": "2024-05-28T20:21:15.680709Z"
    }
   },
   "outputs": [],
   "source": [
    "import os\n",
    "import numpy as np\n",
    "from sklearn.metrics import adjusted_rand_score, normalized_mutual_info_score\n",
    "from sklearn.cluster import KMeans, DBSCAN, AgglomerativeClustering, SpectralClustering                                         \n",
    "from sklearn.metrics import adjusted_rand_score, normalized_mutual_info_score         \n",
    "import matplotlib.pyplot as plt                                  \n",
    "import cv2\n",
    "from collections import Counter\n",
    "from sklearn.mixture import GaussianMixture"
   ]
  },
  {
   "cell_type": "code",
   "outputs": [],
   "source": [
    "def load_ground_truth(gt_path):                                     \n",
    "    ground_truth = np.genfromtxt(gt_path, dtype=int, delimiter=',') \n",
    "    return ground_truth\n",
    "\n",
    "def load_extracted_features(exp_path, folder):                      \n",
    "    emb_save_path = os.path.join(exp_path, f'{folder}.npy')         \n",
    "    features = np.load(emb_save_path, allow_pickle=True)                          \n",
    "    return features                                                 \n",
    "                                                                    \n",
    "def perform_clustering(features, n_clusters):                     \n",
    "    kmeans = KMeans(n_clusters=100, random_state=0).fit(features)   \n",
    "    return kmeans.labels_                                           \n",
    "def compare_with_ground_truth(pred_labels, true_labels):\n",
    "    ari = adjusted_rand_score(true_labels, pred_labels)\n",
    "    nmi = normalized_mutual_info_score(true_labels, pred_labels)\n",
    "    return ari, nmi"
   ],
   "metadata": {
    "collapsed": false,
    "ExecuteTime": {
     "end_time": "2024-05-28T20:21:17.874405Z",
     "start_time": "2024-05-28T20:21:17.867295Z"
    }
   },
   "id": "256f74844fa7b028",
   "execution_count": 8
  },
  {
   "cell_type": "code",
   "outputs": [],
   "source": [
    "gt_paths = [r'C:\\Users\\jleus\\PycharmProjects\\EE445\\finalProj\\EE443_2024_Challenge\\data\\val\\camera_0005.txt', r'C:\\Users\\jleus\\PycharmProjects\\EE445\\finalProj\\EE443_2024_Challenge\\data\\val\\camera_0017.txt', r'C:\\Users\\jleus\\PycharmProjects\\EE445\\finalProj\\EE443_2024_Challenge\\data\\val\\camera_0025.txt']\n",
    "detection_paths = [r'C:\\Users\\jleus\\PycharmProjects\\EE445\\finalProj\\EE443_2024_Challenge\\runs\\detect\\inference\\txt\\camera_0005.txt', r'C:\\Users\\jleus\\PycharmProjects\\EE445\\finalProj\\EE443_2024_Challenge\\runs\\detect\\inference\\txt\\camera_0017.txt', r'C:\\Users\\jleus\\PycharmProjects\\EE445\\finalProj\\EE443_2024_Challenge\\runs\\detect\\inference\\txt\\camera_0025.txt']\n",
    "exp_path = 'C:/Users/jleus/PycharmProjects/EE445/finalProj/EE443_2024_Challenge/runs/reid/inference'\n",
    "folders = ['camera_0005', 'camera_0017', 'camera_0025']"
   ],
   "metadata": {
    "collapsed": false,
    "ExecuteTime": {
     "end_time": "2024-05-24T23:03:14.371399Z",
     "start_time": "2024-05-24T23:03:14.367418Z"
    }
   },
   "id": "1af15c9817df2844",
   "execution_count": 22
  },
  {
   "cell_type": "code",
   "outputs": [],
   "source": [
    "ground_truths = [load_ground_truth(gt_path) for gt_path in gt_paths]\n",
    "detect_inferences = [load_ground_truth(detect_path) for detect_path in detection_paths]"
   ],
   "metadata": {
    "collapsed": false,
    "ExecuteTime": {
     "end_time": "2024-05-24T23:03:16.523279Z",
     "start_time": "2024-05-24T23:03:15.296584Z"
    }
   },
   "id": "3d3b013387e73012",
   "execution_count": 23
  },
  {
   "cell_type": "code",
   "outputs": [
    {
     "name": "stdout",
     "output_type": "stream",
     "text": [
      "Processing folder camera_0005\n",
      "Processing folder camera_0017\n",
      "Processing folder camera_0025\n"
     ]
    }
   ],
   "source": [
    "featuresAll = []\n",
    "predictions = []\n",
    "for i, folder in enumerate(folders): \n",
    "    print(f'Processing folder {folder}')\n",
    "    features = load_extracted_features(exp_path, folder)\n",
    "    features = np.vstack(features)\n",
    "    # n_clusters = len(np.unique(ground_truths[i]))\n",
    "    # pred_labels = perform_clustering(features, n_clusters)\n",
    "    featuresAll.append(features)\n",
    "    # ari, nmi = compare_with_ground_truth(pred_labels, ground_truths[i])"
   ],
   "metadata": {
    "collapsed": false,
    "ExecuteTime": {
     "end_time": "2024-05-24T19:46:56.556741Z",
     "start_time": "2024-05-24T19:46:55.809788Z"
    }
   },
   "id": "56f677c68db0f949",
   "execution_count": 6
  },
  {
   "cell_type": "code",
   "outputs": [],
   "source": [
    "column_data = ground_truths[0][:, 1]"
   ],
   "metadata": {
    "collapsed": false,
    "ExecuteTime": {
     "end_time": "2024-05-22T23:16:18.229614Z",
     "start_time": "2024-05-22T23:16:18.226491Z"
    }
   },
   "id": "2a61b0bdb573b565",
   "execution_count": 43
  },
  {
   "cell_type": "code",
   "outputs": [
    {
     "data": {
      "text/plain": "25"
     },
     "execution_count": 44,
     "metadata": {},
     "output_type": "execute_result"
    }
   ],
   "source": [
    "len(np.unique(column_data))"
   ],
   "metadata": {
    "collapsed": false,
    "ExecuteTime": {
     "end_time": "2024-05-22T23:16:19.914077Z",
     "start_time": "2024-05-22T23:16:19.908740Z"
    }
   },
   "id": "28bc6eaacde31a08",
   "execution_count": 44
  },
  {
   "cell_type": "code",
   "outputs": [],
   "source": [
    "kmeans = KMeans(n_clusters=25, random_state=0).fit(featuresAll[0])"
   ],
   "metadata": {
    "collapsed": false,
    "ExecuteTime": {
     "end_time": "2024-05-22T06:06:33.796480Z",
     "start_time": "2024-05-22T06:06:30.532811Z"
    }
   },
   "id": "4feb07e0594de33a",
   "execution_count": 151
  },
  {
   "cell_type": "code",
   "outputs": [],
   "source": [
    "agglo = AgglomerativeClustering(n_clusters=25).fit(featuresAll[0])"
   ],
   "metadata": {
    "collapsed": false,
    "ExecuteTime": {
     "end_time": "2024-05-22T23:20:21.994777Z",
     "start_time": "2024-05-22T23:16:21.516694Z"
    }
   },
   "id": "d2bc455b54956db8",
   "execution_count": 45
  },
  {
   "cell_type": "code",
   "outputs": [],
   "source": [
    "spect = SpectralClustering(n_clusters=24).fit(featuresAll[2])"
   ],
   "metadata": {
    "collapsed": false,
    "ExecuteTime": {
     "end_time": "2024-05-22T06:52:38.045687Z",
     "start_time": "2024-05-22T06:48:26.059556Z"
    }
   },
   "id": "a73cfed3568e643a",
   "execution_count": 245
  },
  {
   "cell_type": "code",
   "outputs": [],
   "source": [
    "gaus = GaussianMixture(n_components=25).fit(featuresAll[0][:500])"
   ],
   "metadata": {
    "collapsed": false,
    "ExecuteTime": {
     "end_time": "2024-05-22T07:03:23.259606Z",
     "start_time": "2024-05-22T07:03:21.198119Z"
    }
   },
   "id": "7b0025ec2a01b01f",
   "execution_count": 280
  },
  {
   "cell_type": "code",
   "outputs": [
    {
     "data": {
      "text/plain": "array([11,  1, 11, ..., 10,  3,  2], dtype=int64)"
     },
     "execution_count": 46,
     "metadata": {},
     "output_type": "execute_result"
    }
   ],
   "source": [
    "agglo.labels_"
   ],
   "metadata": {
    "collapsed": false,
    "ExecuteTime": {
     "end_time": "2024-05-22T23:20:22.002917Z",
     "start_time": "2024-05-22T23:20:21.995918Z"
    }
   },
   "id": "7feb34187d48e247",
   "execution_count": 46
  },
  {
   "cell_type": "code",
   "outputs": [],
   "source": [
    "detect_inferences[0][:, 1] = agglo.labels_"
   ],
   "metadata": {
    "collapsed": false,
    "ExecuteTime": {
     "end_time": "2024-05-22T23:20:30.400067Z",
     "start_time": "2024-05-22T23:20:30.396192Z"
    }
   },
   "id": "1ad36729c4d06847",
   "execution_count": 47
  },
  {
   "cell_type": "code",
   "outputs": [
    {
     "data": {
      "text/plain": "array([[   5,   11,    0, ...,  163,    0,   -1],\n       [   5,    1,    0, ...,  194,    0,   -1],\n       [   5,   11,    0, ...,  160,    0,   -1],\n       ...,\n       [   5,   10, 1799, ...,  129,    0,   -1],\n       [   5,    3, 1799, ...,  223,    0,   -1],\n       [   5,    2, 1799, ...,  140,    0,   -1]])"
     },
     "execution_count": 48,
     "metadata": {},
     "output_type": "execute_result"
    }
   ],
   "source": [
    "detect_inferences[0]"
   ],
   "metadata": {
    "collapsed": false,
    "ExecuteTime": {
     "end_time": "2024-05-22T23:20:31.807056Z",
     "start_time": "2024-05-22T23:20:31.802375Z"
    }
   },
   "id": "ad62baa117516a48",
   "execution_count": 48
  },
  {
   "cell_type": "code",
   "outputs": [],
   "source": [
    "def draw_boxes_on_frame(frame, detections): \n",
    "    for detection in detections: \n",
    "        camera_id, tracking_id, frame_id, xmin, ymin, width, height = detection[:7]\n",
    "        x_center, y_center, width, height = xmin, ymin, width, height\n",
    "        xmin = int(x_center - width / 2)\n",
    "        ymin = int(y_center - height / 2)\n",
    "        xmax = int(x_center + width / 2)\n",
    "        ymax = int(y_center + height / 2)\n",
    "        \n",
    "        cv2.rectangle(frame, (xmin, ymin), (xmin + width, ymin + height), (0, 255, 0), 2)\n",
    "        cv2.putText(frame, str(tracking_id), (xmin, ymin - 10), cv2.FONT_HERSHEY_SIMPLEX, 0.9, (0, 255, 0), 2)"
   ],
   "metadata": {
    "collapsed": false,
    "ExecuteTime": {
     "end_time": "2024-05-24T23:03:18.514608Z",
     "start_time": "2024-05-24T23:03:18.509042Z"
    }
   },
   "id": "864e53b5c969ad7b",
   "execution_count": 24
  },
  {
   "cell_type": "code",
   "outputs": [],
   "source": [
    "# def linear_interpolation(prev_pos, curr_pos, alpha):\n",
    "#     return prev_pos * (1 - alpha) + curr_pos * alpha\n",
    "# def draw_boxes_on_frame(frame, detections, prev_positions, frame_id, alpha=0.1):\n",
    "#     new_positions = []\n",
    "#     for detection in detections:\n",
    "#         camera_id, tracking_id, frame_id, xmin, ymin, width, height = detection[:7]\n",
    "#         x_center, y_center = xmin, ymin\n",
    "# \n",
    "#         if tracking_id in prev_positions:\n",
    "#             prev_x_center, prev_y_center, prev_width, prev_height = prev_positions[tracking_id]\n",
    "#             x_center = linear_interpolation(prev_x_center, x_center, alpha)\n",
    "#             y_center = linear_interpolation(prev_y_center, y_center, alpha)\n",
    "#             width = linear_interpolation(prev_width, width, alpha)\n",
    "#             height = linear_interpolation(prev_height, height, alpha)\n",
    "# \n",
    "#         new_positions.append((tracking_id, x_center, y_center, width, height))\n",
    "# \n",
    "#         xmin = int(x_center - width / 2)\n",
    "#         ymin = int(y_center - height / 2)\n",
    "#         xmax = int(x_center + width / 2)\n",
    "#         ymax = int(y_center + height / 2)\n",
    "# \n",
    "#         cv2.rectangle(frame, (xmin, ymin), (xmax, ymax), (0, 255, 0), 2)\n",
    "#         cv2.putText(frame, str(tracking_id), (xmin, ymin - 10), cv2.FONT_HERSHEY_SIMPLEX, 0.9, (0, 255, 0), 2)\n",
    "# \n",
    "#     return {tracking_id: (x_center, y_center, width, height) for tracking_id, x_center, y_center, width, height in new_positions}"
   ],
   "metadata": {
    "collapsed": false,
    "ExecuteTime": {
     "end_time": "2024-05-22T23:20:35.960975Z",
     "start_time": "2024-05-22T23:20:35.954899Z"
    }
   },
   "id": "b31ae9eedb3e6391",
   "execution_count": 49
  },
  {
   "cell_type": "code",
   "outputs": [],
   "source": [
    "frame_directory = r'C:\\Users\\jleus\\PycharmProjects\\EE445\\finalProj\\EE443_2024_Challenge\\data\\val\\camera_0005'\n",
    "output_directory = r'C:\\Users\\jleus\\PycharmProjects\\EE445\\finalProj\\EE443_2024_Challenge\\runs\\tracking\\vis\\AgglomerativeClustering\\camera_0005\\images'"
   ],
   "metadata": {
    "collapsed": false,
    "ExecuteTime": {
     "end_time": "2024-05-24T23:03:27.495469Z",
     "start_time": "2024-05-24T23:03:27.492016Z"
    }
   },
   "id": "56336fd024885fcf",
   "execution_count": 25
  },
  {
   "cell_type": "code",
   "outputs": [],
   "source": [
    "detect_tracking = load_ground_truth(r'C:\\Users\\jleus\\PycharmProjects\\EE445\\finalProj\\EE443_2024_Challenge\\runs\\tracking\\inference\\camera_0005.txt')"
   ],
   "metadata": {
    "collapsed": false,
    "ExecuteTime": {
     "end_time": "2024-05-24T23:03:48.735625Z",
     "start_time": "2024-05-24T23:03:48.507583Z"
    }
   },
   "id": "d47213a52b41c686",
   "execution_count": 26
  },
  {
   "cell_type": "code",
   "outputs": [
    {
     "data": {
      "text/plain": "array([[   5,    8,    0, ...,  163,   -1,   -1],\n       [   5,    8,    1, ...,  161,   -1,   -1],\n       [   5,    8,    2, ...,  161,   -1,   -1],\n       ...,\n       [   5,   15, 1797, ...,  143,   -1,   -1],\n       [   5,   15, 1798, ...,  149,   -1,   -1],\n       [   5,   15, 1799, ...,  155,   -1,   -1]])"
     },
     "execution_count": 27,
     "metadata": {},
     "output_type": "execute_result"
    }
   ],
   "source": [
    "detect_tracking"
   ],
   "metadata": {
    "collapsed": false,
    "ExecuteTime": {
     "end_time": "2024-05-24T23:03:51.559042Z",
     "start_time": "2024-05-24T23:03:51.554904Z"
    }
   },
   "id": "8c058cbc274bc037",
   "execution_count": 27
  },
  {
   "cell_type": "code",
   "outputs": [],
   "source": [
    "detections_by_frame = {}\n",
    "for detection in detect_tracking:\n",
    "    frame_id = detection[2]\n",
    "    if frame_id not in detections_by_frame: \n",
    "        detections_by_frame[frame_id] = []\n",
    "    detections_by_frame[frame_id].append(detection)"
   ],
   "metadata": {
    "collapsed": false,
    "ExecuteTime": {
     "end_time": "2024-05-24T23:03:54.858475Z",
     "start_time": "2024-05-24T23:03:54.834825Z"
    }
   },
   "id": "6f7234c4a7d8985c",
   "execution_count": 28
  },
  {
   "cell_type": "code",
   "outputs": [],
   "source": [
    "for frame_id, detections in detections_by_frame.items(): \n",
    "    frame_path = f\"{frame_directory}/{str(frame_id).zfill(5)}.jpg\"\n",
    "    frame = cv2.imread(frame_path)\n",
    "    if frame is not None: \n",
    "        draw_boxes_on_frame(frame, detections)\n",
    "        output_path = f\"{output_directory}/annotated_{str(frame_id).zfill(5)}.jpg\"\n",
    "        cv2.imwrite(output_path, frame)\n",
    "        \n",
    "cv2.destroyAllWindows()"
   ],
   "metadata": {
    "collapsed": false,
    "ExecuteTime": {
     "end_time": "2024-05-24T23:05:55.640752Z",
     "start_time": "2024-05-24T23:03:56.229554Z"
    }
   },
   "id": "35f56a207de4cfd2",
   "execution_count": 29
  },
  {
   "cell_type": "code",
   "outputs": [],
   "source": [
    "# prev_positions = {}\n",
    "# for frame_id, detections in sorted(detections_by_frame.items()):\n",
    "#     frame_path = f\"{frame_directory}/{str(frame_id).zfill(5)}.jpg\"\n",
    "#     frame = cv2.imread(frame_path)\n",
    "#     if frame is not None:\n",
    "#         prev_positions = draw_boxes_on_frame(frame, detections, prev_positions, frame_id)\n",
    "#         output_path = f\"{output_directory}/annotated_{str(frame_id).zfill(5)}.jpg\"\n",
    "#         cv2.imwrite(output_path, frame)"
   ],
   "metadata": {
    "collapsed": false,
    "ExecuteTime": {
     "end_time": "2024-05-22T23:24:41.375151Z",
     "start_time": "2024-05-22T23:23:00.699876Z"
    }
   },
   "id": "a0ba0cfa86f620c0",
   "execution_count": 56
  },
  {
   "cell_type": "code",
   "outputs": [],
   "source": [
    "first_frame_id = str(min(detections_by_frame.keys())).zfill(5)\n",
    "first_frame_path = os.path.join(frame_directory, f\"{first_frame_id}.jpg\")\n",
    "first_frame = cv2.imread(first_frame_path)\n",
    "height, width, layers = first_frame.shape\n",
    "video_path = os.path.join(r'C:\\Users\\jleus\\PycharmProjects\\EE445\\finalProj\\EE443_2024_Challenge\\runs\\tracking\\vis\\AgglomerativeClustering\\camera_0005\\camera_0005.mp4')\n",
    "fourcc = cv2.VideoWriter_fourcc(*'XVID')\n",
    "out = cv2.VideoWriter(video_path, fourcc, 20.0, (width, height))"
   ],
   "metadata": {
    "collapsed": false,
    "ExecuteTime": {
     "end_time": "2024-05-24T23:05:55.671852Z",
     "start_time": "2024-05-24T23:05:55.641750Z"
    }
   },
   "id": "8a5dd39776e7ee5d",
   "execution_count": 30
  },
  {
   "cell_type": "code",
   "outputs": [],
   "source": [
    "for frame_id in sorted(detections_by_frame.keys()):\n",
    "    frame_path = os.path.join(frame_directory, f\"{str(frame_id).zfill(5)}.jpg\")\n",
    "    frame = cv2.imread(frame_path)\n",
    "    if frame is not None:\n",
    "        # Draw bounding boxes and tracking IDs\n",
    "        draw_boxes_on_frame(frame, detections_by_frame[frame_id])\n",
    "        # Write the frame into the video\n",
    "        out.write(frame)\n",
    "        # To display the frame, uncomment the lines below\n",
    "        # cv2.imshow('Annotated Frame', frame)\n",
    "        # cv2.waitKey(1)\n",
    "\n",
    "# Release everything if job is finished\n",
    "out.release()\n",
    "cv2.destroyAllWindows()"
   ],
   "metadata": {
    "collapsed": false,
    "ExecuteTime": {
     "end_time": "2024-05-24T23:06:59.657395Z",
     "start_time": "2024-05-24T23:05:55.672928Z"
    }
   },
   "id": "41b04a33f9ef4a51",
   "execution_count": 31
  },
  {
   "cell_type": "code",
   "outputs": [],
   "source": [
    "# prev_positions = {}\n",
    "# for frame_id in sorted(detections_by_frame.keys()):\n",
    "#     frame_path = os.path.join(frame_directory, f\"{str(frame_id).zfill(5)}.jpg\")\n",
    "#     frame = cv2.imread(frame_path)\n",
    "#     if frame is not None:\n",
    "#         prev_positions = draw_boxes_on_frame(frame, detections_by_frame[frame_id], prev_positions, frame_id)\n",
    "#         out.write(frame)\n",
    "# \n",
    "# out.release()\n",
    "# cv2.destroyAllWindows()"
   ],
   "metadata": {
    "collapsed": false,
    "ExecuteTime": {
     "end_time": "2024-05-22T23:25:43.993541Z",
     "start_time": "2024-05-22T23:24:41.404097Z"
    }
   },
   "id": "1384335c012c602b",
   "execution_count": 58
  }
 ],
 "metadata": {
  "kernelspec": {
   "display_name": "Python 3",
   "language": "python",
   "name": "python3"
  },
  "language_info": {
   "codemirror_mode": {
    "name": "ipython",
    "version": 2
   },
   "file_extension": ".py",
   "mimetype": "text/x-python",
   "name": "python",
   "nbconvert_exporter": "python",
   "pygments_lexer": "ipython2",
   "version": "2.7.6"
  }
 },
 "nbformat": 4,
 "nbformat_minor": 5
}
